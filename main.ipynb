{
 "cells": [
  {
   "cell_type": "code",
   "execution_count": 1,
   "metadata": {},
   "outputs": [],
   "source": [
    "import os\n",
    "import torch\n",
    "import numpy as np\n",
    "import torch.nn as nn\n",
    "from torch.utils.data import DataLoader, Dataset\n",
    "import torchvision\n",
    "from sklearn.metrics import confusion_matrix, f1_score\n",
    "from torchvision import transforms\n",
    "import time\n",
    "from torchvision import models\n",
    "from PIL import Image\n",
    "import torch.optim as optim\n",
    "from tqdm import tqdm\n",
    "from torchvision.datasets import ImageFolder\n",
    "import matplotlib.pyplot as plt\n",
    "import torchvision.transforms.functional as F\n",
    "import csv\n",
    "import argparse\n",
    "from torch.utils.data import Dataset\n",
    "from sklearn.preprocessing import LabelBinarizer"
   ]
  },
  {
   "cell_type": "markdown",
   "metadata": {},
   "source": [
    "## Class Dataset"
   ]
  },
  {
   "cell_type": "code",
   "execution_count": 2,
   "metadata": {},
   "outputs": [],
   "source": [
    "class MusicGenreDataset(Dataset):\n",
    "    def __init__(self, root, transform=None, target_transform=None, num_splits=10):\n",
    "        self.root = root\n",
    "        self.transform = transform\n",
    "        self.target_transform = target_transform\n",
    "        self.classes, self.class_to_idx = self._find_classes(self.root)\n",
    "        self.samples = self._make_dataset(self.root, self.class_to_idx)\n",
    "        self.num_splits = num_splits\n",
    "\n",
    "        # Initialize LabelBinarizer for one-hot encoding\n",
    "        self.label_binarizer = LabelBinarizer()\n",
    "        self.label_binarizer.fit(range(len(self.classes)))\n",
    "\n",
    "    def _find_classes(self, dir):\n",
    "        classes = [d.name for d in os.scandir(dir) if d.is_dir()]\n",
    "        classes.sort()\n",
    "        class_to_idx = {cls_name: i for i, cls_name in enumerate(classes)}\n",
    "        return classes, class_to_idx\n",
    "\n",
    "    def _make_dataset(self, dir, class_to_idx):\n",
    "        dataset = []\n",
    "        for target in sorted(class_to_idx.keys()):\n",
    "            d = os.path.join(dir, target)\n",
    "            if not os.path.isdir(d):\n",
    "                continue\n",
    "\n",
    "            for root, _, fnames in sorted(os.walk(d)):\n",
    "                for fname in sorted(fnames):\n",
    "                    path = os.path.join(root, fname)\n",
    "                    item = (path, class_to_idx[target])\n",
    "                    dataset.append(item)\n",
    "\n",
    "        return dataset\n",
    "\n",
    "    def __len__(self):\n",
    "        return len(self.samples)\n",
    "\n",
    "    def __getitem__(self, index):\n",
    "        path, target = self.samples[index]\n",
    "\n",
    "        img = np.load(path)\n",
    "\n",
    "        # Use one-hot encoding for the target\n",
    "        target_one_hot = self.label_binarizer.transform([target])[0]\n",
    "\n",
    "        # Ensure that target_one_hot has the correct length (num_classes)\n",
    "        if len(target_one_hot) != 10:\n",
    "            raise ValueError(f\"The length of target_one_hot ({len(target_one_hot)}) does not match num_classes ({10}).\")\n",
    "\n",
    "        # Cast the target label to Long data type\n",
    "        target_one_hot = torch.tensor(target_one_hot, dtype=torch.float32)  # or torch.int64\n",
    "\n",
    "        return img, target_one_hot"
   ]
  },
  {
   "cell_type": "markdown",
   "metadata": {},
   "source": [
    "## Class CNN-RNN"
   ]
  },
  {
   "cell_type": "code",
   "execution_count": 3,
   "metadata": {},
   "outputs": [],
   "source": [
    "class CNNtoRNN(nn.Module):\n",
    "    def __init__(self, num_classes, rnn_hidden_size, num_rnn_layers) -> None:\n",
    "        super().__init__()\n",
    "        self.conv_layers = nn.Sequential(\n",
    "            nn.Conv2d(1, 128, 5, padding=2),\n",
    "            nn.MaxPool2d(2, 2),\n",
    "            nn.ReLU(),\n",
    "            nn.Conv2d(128, 128, 5, padding=2),\n",
    "            nn.MaxPool2d(2, 2),\n",
    "            nn.ReLU(),\n",
    "        )\n",
    "        # Size of the flattened CNN features, needs to be calculated based on the CNN output\n",
    "        self.cnn_output_size = 32 * 160 * 128\n",
    "\n",
    "        # RNN layers\n",
    "        self.rnn = nn.GRU(input_size=self.cnn_output_size,\n",
    "                          hidden_size=rnn_hidden_size,\n",
    "                          num_layers=num_rnn_layers,\n",
    "                          batch_first=True)\n",
    "\n",
    "        # Linear and LogSoftmax layers\n",
    "        self.fc = nn.Linear(rnn_hidden_size, num_classes)\n",
    "        # self.log_softmax = nn.LogSoftmax(dim=-1) # LogSoftmax does not work with CrossEntropyLoss !!!!\n",
    "\n",
    "    def forward(self, x: torch.Tensor) -> torch.Tensor:\n",
    "        x = self.conv_layers(x)\n",
    "\n",
    "        # Flatten the CNN output for the RNN layer\n",
    "        x = x.view(x.size(0), -1)\n",
    "\n",
    "        # The RNN layer expects inputs of shape (batch, seq_len, features)\n",
    "        # Since we don't have a sequence, we can treat the entire CNN output as one sequence\n",
    "        # by adding an additional dimension with seq_len=1\n",
    "        x = x.unsqueeze(1)\n",
    "\n",
    "        # Apply the RNN layer\n",
    "        x, _ = self.rnn(x)\n",
    "\n",
    "        # Take the output for the last time-step\n",
    "        x = x[:, -1, :]\n",
    "\n",
    "        # Apply the final fully connected layer and LogSoftmax\n",
    "        x = self.fc(x)\n",
    "\n",
    "        return x"
   ]
  },
  {
   "cell_type": "markdown",
   "metadata": {},
   "source": [
    "## CNN-RNN"
   ]
  },
  {
   "cell_type": "code",
   "execution_count": 4,
   "metadata": {},
   "outputs": [
    {
     "name": "stdout",
     "output_type": "stream",
     "text": [
      "Sequential(\n",
      "  (0): Conv2d(1, 128, kernel_size=(5, 5), stride=(1, 1))\n",
      "  (1): ReLU()\n",
      "  (2): MaxPool2d(kernel_size=2, stride=2, padding=0, dilation=1, ceil_mode=False)\n",
      "  (3): Conv2d(128, 128, kernel_size=(5, 5), stride=(1, 1))\n",
      "  (4): ReLU()\n",
      "  (5): MaxPool2d(kernel_size=2, stride=2, padding=0, dilation=1, ceil_mode=False)\n",
      "  (6): Flatten(start_dim=1, end_dim=-1)\n",
      "  (7): Dropout(p=0.2, inplace=False)\n",
      "  (8): Linear(in_features=582784, out_features=10, bias=True)\n",
      "  (9): LogSoftmax(dim=-1)\n",
      ")\n",
      "Trainging on:  cuda\n"
     ]
    },
    {
     "name": "stderr",
     "output_type": "stream",
     "text": [
      "Epoch 1/25 - Training: 100%|██████████| 27/27 [00:07<00:00,  3.78it/s]\n",
      "Validation: 100%|██████████| 4/4 [00:00<00:00, 12.22it/s]\n"
     ]
    },
    {
     "name": "stdout",
     "output_type": "stream",
     "text": [
      "Epoch 1/25, Train Loss: 19.0725, Train Accuracy: 0.1100, Val Loss: 2.2747, Val Accuracy: 0.0400\n"
     ]
    },
    {
     "name": "stderr",
     "output_type": "stream",
     "text": [
      "Epoch 2/25 - Training: 100%|██████████| 27/27 [00:06<00:00,  4.34it/s]\n",
      "Validation: 100%|██████████| 4/4 [00:00<00:00, 12.35it/s]\n"
     ]
    },
    {
     "name": "stdout",
     "output_type": "stream",
     "text": [
      "Epoch 2/25, Train Loss: 1.9457, Train Accuracy: 0.4062, Val Loss: 2.1434, Val Accuracy: 0.2000\n"
     ]
    },
    {
     "name": "stderr",
     "output_type": "stream",
     "text": [
      "Epoch 3/25 - Training: 100%|██████████| 27/27 [00:06<00:00,  4.27it/s]\n",
      "Validation: 100%|██████████| 4/4 [00:00<00:00, 12.39it/s]\n"
     ]
    },
    {
     "name": "stdout",
     "output_type": "stream",
     "text": [
      "Epoch 3/25, Train Loss: 1.0640, Train Accuracy: 0.7113, Val Loss: 2.9481, Val Accuracy: 0.6400\n"
     ]
    },
    {
     "name": "stderr",
     "output_type": "stream",
     "text": [
      "Epoch 4/25 - Training: 100%|██████████| 27/27 [00:06<00:00,  4.20it/s]\n",
      "Validation: 100%|██████████| 4/4 [00:00<00:00, 12.20it/s]\n"
     ]
    },
    {
     "name": "stdout",
     "output_type": "stream",
     "text": [
      "Epoch 4/25, Train Loss: 0.3933, Train Accuracy: 0.9100, Val Loss: 3.8329, Val Accuracy: 0.8000\n"
     ]
    },
    {
     "name": "stderr",
     "output_type": "stream",
     "text": [
      "Epoch 5/25 - Training: 100%|██████████| 27/27 [00:06<00:00,  4.15it/s]\n",
      "Validation: 100%|██████████| 4/4 [00:00<00:00, 12.09it/s]\n"
     ]
    },
    {
     "name": "stdout",
     "output_type": "stream",
     "text": [
      "Epoch 5/25, Train Loss: 0.2458, Train Accuracy: 0.9400, Val Loss: 3.8213, Val Accuracy: 0.7200\n"
     ]
    },
    {
     "name": "stderr",
     "output_type": "stream",
     "text": [
      "Epoch 6/25 - Training: 100%|██████████| 27/27 [00:06<00:00,  4.09it/s]\n",
      "Validation: 100%|██████████| 4/4 [00:00<00:00, 10.92it/s]\n"
     ]
    },
    {
     "name": "stdout",
     "output_type": "stream",
     "text": [
      "Epoch 6/25, Train Loss: 0.1344, Train Accuracy: 0.9750, Val Loss: 4.5071, Val Accuracy: 0.8000\n"
     ]
    },
    {
     "name": "stderr",
     "output_type": "stream",
     "text": [
      "Epoch 7/25 - Training: 100%|██████████| 27/27 [00:06<00:00,  4.03it/s]\n",
      "Validation: 100%|██████████| 4/4 [00:00<00:00, 11.03it/s]\n"
     ]
    },
    {
     "name": "stdout",
     "output_type": "stream",
     "text": [
      "Epoch 7/25, Train Loss: 0.1530, Train Accuracy: 0.9750, Val Loss: 4.6314, Val Accuracy: 0.8000\n"
     ]
    },
    {
     "name": "stderr",
     "output_type": "stream",
     "text": [
      "Epoch 8/25 - Training: 100%|██████████| 27/27 [00:07<00:00,  3.85it/s]\n",
      "Validation: 100%|██████████| 4/4 [00:00<00:00, 11.48it/s]\n"
     ]
    },
    {
     "name": "stdout",
     "output_type": "stream",
     "text": [
      "Epoch 8/25, Train Loss: 0.0851, Train Accuracy: 0.9888, Val Loss: 6.1318, Val Accuracy: 0.8000\n"
     ]
    },
    {
     "name": "stderr",
     "output_type": "stream",
     "text": [
      "Epoch 9/25 - Training: 100%|██████████| 27/27 [00:06<00:00,  3.98it/s]\n",
      "Validation: 100%|██████████| 4/4 [00:00<00:00,  9.51it/s]\n"
     ]
    },
    {
     "name": "stdout",
     "output_type": "stream",
     "text": [
      "Epoch 9/25, Train Loss: 0.0815, Train Accuracy: 0.9875, Val Loss: 6.5531, Val Accuracy: 0.8000\n"
     ]
    },
    {
     "name": "stderr",
     "output_type": "stream",
     "text": [
      "Epoch 10/25 - Training: 100%|██████████| 27/27 [00:07<00:00,  3.70it/s]\n",
      "Validation: 100%|██████████| 4/4 [00:00<00:00, 10.81it/s]\n"
     ]
    },
    {
     "name": "stdout",
     "output_type": "stream",
     "text": [
      "Epoch 10/25, Train Loss: 0.0570, Train Accuracy: 0.9875, Val Loss: 6.5714, Val Accuracy: 0.8000\n"
     ]
    },
    {
     "name": "stderr",
     "output_type": "stream",
     "text": [
      "Epoch 11/25 - Training: 100%|██████████| 27/27 [00:06<00:00,  3.90it/s]\n",
      "Validation: 100%|██████████| 4/4 [00:00<00:00,  9.72it/s]\n"
     ]
    },
    {
     "name": "stdout",
     "output_type": "stream",
     "text": [
      "Epoch 11/25, Train Loss: 0.0444, Train Accuracy: 0.9938, Val Loss: 6.6740, Val Accuracy: 0.8000\n"
     ]
    },
    {
     "name": "stderr",
     "output_type": "stream",
     "text": [
      "Epoch 12/25 - Training: 100%|██████████| 27/27 [00:07<00:00,  3.80it/s]\n",
      "Validation: 100%|██████████| 4/4 [00:00<00:00, 10.41it/s]\n"
     ]
    },
    {
     "name": "stdout",
     "output_type": "stream",
     "text": [
      "Epoch 12/25, Train Loss: 0.0320, Train Accuracy: 0.9938, Val Loss: 7.2057, Val Accuracy: 0.8000\n"
     ]
    },
    {
     "name": "stderr",
     "output_type": "stream",
     "text": [
      "Epoch 13/25 - Training: 100%|██████████| 27/27 [00:07<00:00,  3.75it/s]\n",
      "Validation: 100%|██████████| 4/4 [00:00<00:00,  9.78it/s]\n"
     ]
    },
    {
     "name": "stdout",
     "output_type": "stream",
     "text": [
      "Epoch 13/25, Train Loss: 0.0654, Train Accuracy: 0.9938, Val Loss: 6.5303, Val Accuracy: 0.8000\n"
     ]
    },
    {
     "name": "stderr",
     "output_type": "stream",
     "text": [
      "Epoch 14/25 - Training: 100%|██████████| 27/27 [00:07<00:00,  3.69it/s]\n",
      "Validation: 100%|██████████| 4/4 [00:00<00:00, 11.26it/s]\n"
     ]
    },
    {
     "name": "stdout",
     "output_type": "stream",
     "text": [
      "Epoch 14/25, Train Loss: 0.0294, Train Accuracy: 0.9975, Val Loss: 6.7861, Val Accuracy: 0.7600\n"
     ]
    },
    {
     "name": "stderr",
     "output_type": "stream",
     "text": [
      "Epoch 15/25 - Training: 100%|██████████| 27/27 [00:07<00:00,  3.70it/s]\n",
      "Validation: 100%|██████████| 4/4 [00:00<00:00, 11.28it/s]\n"
     ]
    },
    {
     "name": "stdout",
     "output_type": "stream",
     "text": [
      "Epoch 15/25, Train Loss: 0.0302, Train Accuracy: 0.9975, Val Loss: 7.7142, Val Accuracy: 0.8000\n"
     ]
    },
    {
     "name": "stderr",
     "output_type": "stream",
     "text": [
      "Epoch 16/25 - Training: 100%|██████████| 27/27 [00:07<00:00,  3.78it/s]\n",
      "Validation: 100%|██████████| 4/4 [00:00<00:00, 11.15it/s]\n"
     ]
    },
    {
     "name": "stdout",
     "output_type": "stream",
     "text": [
      "Epoch 16/25, Train Loss: 0.0212, Train Accuracy: 0.9962, Val Loss: 7.7943, Val Accuracy: 0.8000\n"
     ]
    },
    {
     "name": "stderr",
     "output_type": "stream",
     "text": [
      "Epoch 17/25 - Training: 100%|██████████| 27/27 [00:07<00:00,  3.82it/s]\n",
      "Validation: 100%|██████████| 4/4 [00:00<00:00, 11.70it/s]\n"
     ]
    },
    {
     "name": "stdout",
     "output_type": "stream",
     "text": [
      "Epoch 17/25, Train Loss: 0.0140, Train Accuracy: 0.9975, Val Loss: 7.9609, Val Accuracy: 0.8000\n"
     ]
    },
    {
     "name": "stderr",
     "output_type": "stream",
     "text": [
      "Epoch 18/25 - Training: 100%|██████████| 27/27 [00:07<00:00,  3.71it/s]\n",
      "Validation: 100%|██████████| 4/4 [00:00<00:00, 11.27it/s]\n"
     ]
    },
    {
     "name": "stdout",
     "output_type": "stream",
     "text": [
      "Epoch 18/25, Train Loss: 0.0406, Train Accuracy: 0.9988, Val Loss: 8.2059, Val Accuracy: 0.8000\n"
     ]
    },
    {
     "name": "stderr",
     "output_type": "stream",
     "text": [
      "Epoch 19/25 - Training: 100%|██████████| 27/27 [00:07<00:00,  3.73it/s]\n",
      "Validation: 100%|██████████| 4/4 [00:00<00:00, 11.36it/s]\n"
     ]
    },
    {
     "name": "stdout",
     "output_type": "stream",
     "text": [
      "Epoch 19/25, Train Loss: 0.0784, Train Accuracy: 0.9938, Val Loss: 6.7207, Val Accuracy: 0.8000\n"
     ]
    },
    {
     "name": "stderr",
     "output_type": "stream",
     "text": [
      "Epoch 20/25 - Training: 100%|██████████| 27/27 [00:07<00:00,  3.74it/s]\n",
      "Validation: 100%|██████████| 4/4 [00:00<00:00, 11.21it/s]\n"
     ]
    },
    {
     "name": "stdout",
     "output_type": "stream",
     "text": [
      "Epoch 20/25, Train Loss: 0.0400, Train Accuracy: 0.9950, Val Loss: 6.4042, Val Accuracy: 0.8000\n"
     ]
    },
    {
     "name": "stderr",
     "output_type": "stream",
     "text": [
      "Epoch 21/25 - Training: 100%|██████████| 27/27 [00:07<00:00,  3.70it/s]\n",
      "Validation: 100%|██████████| 4/4 [00:00<00:00, 10.66it/s]\n"
     ]
    },
    {
     "name": "stdout",
     "output_type": "stream",
     "text": [
      "Epoch 21/25, Train Loss: 0.0341, Train Accuracy: 0.9938, Val Loss: 7.3740, Val Accuracy: 0.8000\n"
     ]
    },
    {
     "name": "stderr",
     "output_type": "stream",
     "text": [
      "Epoch 22/25 - Training: 100%|██████████| 27/27 [00:07<00:00,  3.64it/s]\n",
      "Validation: 100%|██████████| 4/4 [00:00<00:00, 10.90it/s]\n"
     ]
    },
    {
     "name": "stdout",
     "output_type": "stream",
     "text": [
      "Epoch 22/25, Train Loss: 0.0388, Train Accuracy: 0.9975, Val Loss: 7.5279, Val Accuracy: 0.8000\n"
     ]
    },
    {
     "name": "stderr",
     "output_type": "stream",
     "text": [
      "Epoch 23/25 - Training: 100%|██████████| 27/27 [00:07<00:00,  3.63it/s]\n",
      "Validation: 100%|██████████| 4/4 [00:00<00:00, 10.89it/s]\n"
     ]
    },
    {
     "name": "stdout",
     "output_type": "stream",
     "text": [
      "Epoch 23/25, Train Loss: 0.0276, Train Accuracy: 0.9988, Val Loss: 7.1757, Val Accuracy: 0.8000\n"
     ]
    },
    {
     "name": "stderr",
     "output_type": "stream",
     "text": [
      "Epoch 24/25 - Training: 100%|██████████| 27/27 [00:07<00:00,  3.65it/s]\n",
      "Validation: 100%|██████████| 4/4 [00:00<00:00, 11.15it/s]\n"
     ]
    },
    {
     "name": "stdout",
     "output_type": "stream",
     "text": [
      "Epoch 24/25, Train Loss: 0.0690, Train Accuracy: 0.9962, Val Loss: 7.7700, Val Accuracy: 0.7600\n"
     ]
    },
    {
     "name": "stderr",
     "output_type": "stream",
     "text": [
      "Epoch 25/25 - Training: 100%|██████████| 27/27 [00:07<00:00,  3.71it/s]\n",
      "Validation: 100%|██████████| 4/4 [00:00<00:00, 10.98it/s]\n"
     ]
    },
    {
     "name": "stdout",
     "output_type": "stream",
     "text": [
      "Epoch 25/25, Train Loss: 0.0508, Train Accuracy: 0.9938, Val Loss: 6.2563, Val Accuracy: 0.8000\n"
     ]
    },
    {
     "data": {
      "image/png": "[encoded data removed]",
      "text/plain": [
       "<Figure size 1000x400 with 2 Axes>"
      ]
     },
     "metadata": {},
     "output_type": "display_data"
    },
    {
     "name": "stdout",
     "output_type": "stream",
     "text": [
      "Testing on:  cuda\n"
     ]
    },
    {
     "name": "stderr",
     "output_type": "stream",
     "text": [
      "Testing:   0%|          | 0/4 [00:00<?, ?it/s]\n"
     ]
    },
    {
     "ename": "RuntimeError",
     "evalue": "element 0 of tensors does not require grad and does not have a grad_fn",
     "output_type": "error",
     "traceback": [
      "\u001b[1;31m---------------------------------------------------------------------------\u001b[0m",
      "\u001b[1;31mRuntimeError\u001b[0m                              Traceback (most recent call last)",
      "\u001b[1;32mc:\\Users\\macca\\Local_Files\\GitHub\\DSAP_BIG_PROJECT\\main.ipynb Cell 7\u001b[0m line \u001b[0;36m2\n\u001b[0;32m    <a href='vscode-notebook-cell:/c%3A/Users/macca/Local_Files/GitHub/DSAP_BIG_PROJECT/main.ipynb#X10sZmlsZQ%3D%3D?line=264'>265</a>\u001b[0m \u001b[39m# Update this line to use one-hot encoded labels\u001b[39;00m\n\u001b[0;32m    <a href='vscode-notebook-cell:/c%3A/Users/macca/Local_Files/GitHub/DSAP_BIG_PROJECT/main.ipynb#X10sZmlsZQ%3D%3D?line=265'>266</a>\u001b[0m loss \u001b[39m=\u001b[39m criterion(outputs, torch\u001b[39m.\u001b[39margmax(labels, dim\u001b[39m=\u001b[39m\u001b[39m1\u001b[39m))\n\u001b[1;32m--> <a href='vscode-notebook-cell:/c%3A/Users/macca/Local_Files/GitHub/DSAP_BIG_PROJECT/main.ipynb#X10sZmlsZQ%3D%3D?line=267'>268</a>\u001b[0m loss\u001b[39m.\u001b[39;49mbackward()\n\u001b[0;32m    <a href='vscode-notebook-cell:/c%3A/Users/macca/Local_Files/GitHub/DSAP_BIG_PROJECT/main.ipynb#X10sZmlsZQ%3D%3D?line=268'>269</a>\u001b[0m optimizer\u001b[39m.\u001b[39mstep()\n\u001b[0;32m    <a href='vscode-notebook-cell:/c%3A/Users/macca/Local_Files/GitHub/DSAP_BIG_PROJECT/main.ipynb#X10sZmlsZQ%3D%3D?line=269'>270</a>\u001b[0m _, predicted \u001b[39m=\u001b[39m torch\u001b[39m.\u001b[39mmax(outputs\u001b[39m.\u001b[39mdata, \u001b[39m1\u001b[39m)\n",
      "File \u001b[1;32mc:\\Users\\macca\\Local_Files\\GitHub\\DSAP_BIG_PROJECT\\.venv\\lib\\site-packages\\torch\\_tensor.py:492\u001b[0m, in \u001b[0;36mTensor.backward\u001b[1;34m(self, gradient, retain_graph, create_graph, inputs)\u001b[0m\n\u001b[0;32m    482\u001b[0m \u001b[39mif\u001b[39;00m has_torch_function_unary(\u001b[39mself\u001b[39m):\n\u001b[0;32m    483\u001b[0m     \u001b[39mreturn\u001b[39;00m handle_torch_function(\n\u001b[0;32m    484\u001b[0m         Tensor\u001b[39m.\u001b[39mbackward,\n\u001b[0;32m    485\u001b[0m         (\u001b[39mself\u001b[39m,),\n\u001b[1;32m   (...)\u001b[0m\n\u001b[0;32m    490\u001b[0m         inputs\u001b[39m=\u001b[39minputs,\n\u001b[0;32m    491\u001b[0m     )\n\u001b[1;32m--> 492\u001b[0m torch\u001b[39m.\u001b[39;49mautograd\u001b[39m.\u001b[39;49mbackward(\n\u001b[0;32m    493\u001b[0m     \u001b[39mself\u001b[39;49m, gradient, retain_graph, create_graph, inputs\u001b[39m=\u001b[39;49minputs\n\u001b[0;32m    494\u001b[0m )\n",
      "File \u001b[1;32mc:\\Users\\macca\\Local_Files\\GitHub\\DSAP_BIG_PROJECT\\.venv\\lib\\site-packages\\torch\\autograd\\__init__.py:251\u001b[0m, in \u001b[0;36mbackward\u001b[1;34m(tensors, grad_tensors, retain_graph, create_graph, grad_variables, inputs)\u001b[0m\n\u001b[0;32m    246\u001b[0m     retain_graph \u001b[39m=\u001b[39m create_graph\n\u001b[0;32m    248\u001b[0m \u001b[39m# The reason we repeat the same comment below is that\u001b[39;00m\n\u001b[0;32m    249\u001b[0m \u001b[39m# some Python versions print out the first line of a multi-line function\u001b[39;00m\n\u001b[0;32m    250\u001b[0m \u001b[39m# calls in the traceback and some print out the last line\u001b[39;00m\n\u001b[1;32m--> 251\u001b[0m Variable\u001b[39m.\u001b[39;49m_execution_engine\u001b[39m.\u001b[39;49mrun_backward(  \u001b[39m# Calls into the C++ engine to run the backward pass\u001b[39;49;00m\n\u001b[0;32m    252\u001b[0m     tensors,\n\u001b[0;32m    253\u001b[0m     grad_tensors_,\n\u001b[0;32m    254\u001b[0m     retain_graph,\n\u001b[0;32m    255\u001b[0m     create_graph,\n\u001b[0;32m    256\u001b[0m     inputs,\n\u001b[0;32m    257\u001b[0m     allow_unreachable\u001b[39m=\u001b[39;49m\u001b[39mTrue\u001b[39;49;00m,\n\u001b[0;32m    258\u001b[0m     accumulate_grad\u001b[39m=\u001b[39;49m\u001b[39mTrue\u001b[39;49;00m,\n\u001b[0;32m    259\u001b[0m )\n",
      "\u001b[1;31mRuntimeError\u001b[0m: element 0 of tensors does not require grad and does not have a grad_fn"
     ]
    }
   ],
   "source": [
    "# Parameters\n",
    "num_classes = 10  # Assume there are 10 music genre classes\n",
    "batch_size = 30\n",
    "root = \"data/gtzan/data_MEL_640\"  # Replace with the correct path\n",
    "# Parameters\n",
    "learning_rate = 0.0001\n",
    "num_epochs = 25\n",
    "timestr = time.strftime(\"%Y%m%d-%H%M%S\")\n",
    "# Chose the model to use\n",
    "model_chosen = \"custom_1\"\n",
    "# Choose if doing Train and Test or ONLY TEST\n",
    "num_rnn_layers = 1\n",
    "rnn_hidden_size = 96\n",
    "train = True\n",
    "\n",
    "device = torch.device(\"cuda\" if torch.cuda.is_available() else \"cpu\")\n",
    "\n",
    "model_info = {\n",
    "    'parameter': 'value',\n",
    "    'lr': f'{learning_rate:.8f}',\n",
    "    'number of epochs': num_epochs,\n",
    "    'base_model': model_chosen,\n",
    "    'device': str(device),\n",
    "    'rnn_hidden_size': 96,\n",
    "    'num_rnn_layers': 1\n",
    "}\n",
    "\n",
    "trained = False\n",
    "\n",
    "# Transformations for spectrogram images\n",
    "transform = transforms.Compose([\n",
    "    transforms.ToTensor()\n",
    "])\n",
    "\n",
    "    \n",
    "dataset = MusicGenreDataset(root, transform=transform)\n",
    "dataset2 = MusicGenreDataset(root, transform=transform)\n",
    "\n",
    "\n",
    "show_first = False\n",
    "if show_first:\n",
    "\n",
    "    # Create a DataLoader\n",
    "    dataloader = torch.utils.data.DataLoader(dataset2, batch_size=25, shuffle=False)\n",
    "\n",
    "    # Iterate over the DataLoader and visualize the first 10 images\n",
    "    for batch in dataloader:\n",
    "        images, labels = batch\n",
    "\n",
    "        for img in images:\n",
    "            print(img.size())\n",
    "\n",
    "        break  # Break after the first batch to show only the first 10 images\n",
    "\n",
    "# Split between training, validation, and testing sets\n",
    "train_size = int(0.8 * len(dataset))\n",
    "val_size = int(0.1 * len(dataset))\n",
    "test_size = len(dataset) - train_size - val_size\n",
    "\n",
    "train_dataset, val_dataset, test_dataset = torch.utils.data.random_split(dataset, [train_size, val_size, test_size])\n",
    "\n",
    "train_loader = DataLoader(train_dataset, batch_size=batch_size, shuffle=True)\n",
    "val_loader = DataLoader(val_dataset, batch_size=batch_size, shuffle=False)\n",
    "test_loader = DataLoader(test_dataset, batch_size=batch_size, shuffle=False)\n",
    "\n",
    "if model_chosen == \"alexnet\":\n",
    "    # Initialize the model AlexNet with dropout\n",
    "    model = models.alexnet(pretrained=True)\n",
    "    # print(model)\n",
    "    model.classifier[6] = nn.Sequential(\n",
    "        nn.Dropout(0.2),  # Add dropout with a specified probability\n",
    "        nn.Linear(1000, num_classes),\n",
    "    )\n",
    "elif model_chosen == \"googlenet\":\n",
    "    # Initialize the model GoogLeNet with dropout\n",
    "    model = models.googlenet(pretrained=True)\n",
    "    print(model)\n",
    "    model.fc = nn.Sequential(\n",
    "        nn.Dropout(0.2),  # Add dropout with a specified probability\n",
    "        nn.Linear(1024, num_classes),\n",
    "    )\n",
    "elif model_chosen == \"custom_1\":\n",
    "    model = nn.Sequential(\n",
    "        nn.Conv2d(in_channels=1, out_channels=128, kernel_size=5),\n",
    "        nn.ReLU(),\n",
    "        nn.MaxPool2d(kernel_size=2, stride=2),  # MaxPooling dopo il primo layer di convoluzione\n",
    "\n",
    "        nn.Conv2d(in_channels=128, out_channels=128, kernel_size=5),\n",
    "        nn.ReLU(),\n",
    "        nn.MaxPool2d(kernel_size=2, stride=2),  # MaxPooling dopo il secondo layer di convoluzione\n",
    "\n",
    "        nn.Flatten(),\n",
    "        nn.Dropout(0.2),\n",
    "        nn.Linear(157 * 29 * 128, 10),\n",
    "        nn.LogSoftmax(dim=-1)\n",
    "    )\n",
    "elif model_chosen == \"custom_2\":\n",
    "    \n",
    "    model = CNNtoRNN(num_classes, num_rnn_layers, rnn_hidden_size)\n",
    "    \n",
    "    \n",
    "print(model)\n",
    "model = model.to(device)\n",
    "\n",
    "# Define loss function and optimizer\n",
    "criterion = nn.CrossEntropyLoss()\n",
    "optimizer = optim.Adam(model.parameters(), lr=learning_rate)\n",
    "\n",
    "# Training and validation loop\n",
    "train_losses = []\n",
    "val_losses = []\n",
    "train_accuracies = []\n",
    "val_accuracies = []\n",
    "\n",
    "if (train):\n",
    "\n",
    "    trained = True\n",
    "\n",
    "    print(\"Trainging on: \", device)\n",
    "\n",
    "    for epoch in range(num_epochs):\n",
    "        # Training\n",
    "        model.train()\n",
    "        running_loss = 0.0\n",
    "        correct_train = 0\n",
    "        total_train = 0\n",
    "\n",
    "        for inputs, labels in tqdm(train_loader, desc=f\"Epoch {epoch + 1}/{num_epochs} - Training\"):\n",
    "            # print(f\"Input shape:{inputs.size()}\")\n",
    "            # print(f\"Labels shape:{labels}\")\n",
    "            inputs, labels = inputs.to(device), labels.to(device)\n",
    "            inputs = inputs.unsqueeze(1)  # Adds a channel dimension\n",
    "\n",
    "            # print(inputs[0])\n",
    "\n",
    "            # HERE = inputs[0]\n",
    "\n",
    "            optimizer.zero_grad()\n",
    "            outputs = model(inputs)\n",
    "            # print(f\"Output shape:{outputs.size()}\")\n",
    "            loss = criterion(outputs, labels)\n",
    "            loss.backward()\n",
    "            optimizer.step()\n",
    "\n",
    "            running_loss += loss.item()\n",
    "\n",
    "            _, predicted = torch.max(outputs.data, 1)\n",
    "            # Update this line to use one-hot encoded labels\n",
    "            total_train += labels.size(0)\n",
    "            correct_train += (predicted == torch.argmax(labels, dim=1)).sum().item()\n",
    "\n",
    "        average_train_loss = running_loss / len(train_loader)\n",
    "        train_accuracy = correct_train / total_train\n",
    "        train_losses.append(average_train_loss)\n",
    "        train_accuracies.append(train_accuracy)\n",
    "        model_info[f\"train loss epoch \" + str(epoch)] = f'{average_train_loss:.4f}'\n",
    "        model_info[f\"train accuracy epoch \" + str(epoch)] = f'{train_accuracy:.4f}'\n",
    "\n",
    "        # Validation\n",
    "        model.eval()\n",
    "        running_val_loss = 0.0\n",
    "        correct_val = 0\n",
    "        total_val = 0\n",
    "\n",
    "        with torch.no_grad():\n",
    "            for inputs_val, labels_val in tqdm(val_loader, desc=\"Validation\"):\n",
    "                inputs_val, labels_val = inputs_val.to(device), labels_val.to(device)\n",
    "                inputs_val = inputs_val.unsqueeze(1)  # Adds a channel dimension\n",
    "\n",
    "                outputs_val = model(inputs_val)\n",
    "                val_loss = criterion(outputs_val, labels_val)\n",
    "                running_val_loss += val_loss.item()\n",
    "\n",
    "                _, predicted_val = torch.max(outputs_val.data, 1)\n",
    "                total_val += labels_val.size(0)\n",
    "                correct_val += (predicted_val == torch.argmax(labels_val, dim=1)).sum().item()\n",
    "\n",
    "\n",
    "        average_val_loss = running_val_loss / len(val_loader)\n",
    "        val_accuracy = correct_val / total_val\n",
    "        val_losses.append(average_val_loss)\n",
    "        val_accuracies.append(val_accuracy)\n",
    "        model_info[f\"val loss epoch \" + str(epoch)] = f'{average_val_loss:.4f}'\n",
    "        model_info[f\"val accuracy epoch \" + str(epoch)] = f'{val_accuracy:.4f}'\n",
    "\n",
    "        # save the model\n",
    "        newpath = \"models/\" + model_chosen + \"_\" + timestr\n",
    "        if not os.path.exists(newpath):\n",
    "            os.makedirs(newpath)\n",
    "\n",
    "        model_name = str(timestr) + \"_\" + str(epoch) + \".pth\"\n",
    "        # Save the trained model\n",
    "        torch.save(model.state_dict(), 'models/' + model_chosen + \"_\" + timestr + '/' + model_name)\n",
    "\n",
    "        # Print training and validation metrics for the epoch\n",
    "        print(f\"Epoch {epoch + 1}/{num_epochs}, \"\n",
    "                f\"Train Loss: {average_train_loss:.4f}, Train Accuracy: {train_accuracy:.4f}, \"\n",
    "                f\"Val Loss: {average_val_loss:.4f}, Val Accuracy: {val_accuracy:.4f}\")\n",
    "\n",
    "    model_name = timestr + \".pth\"\n",
    "    # Save the trained model\n",
    "    torch.save(model.state_dict(), 'models/last.pth')\n",
    "\n",
    "    # Plotting the training and validation losses\n",
    "    plt.figure(figsize=(10, 4))\n",
    "    plt.subplot(1, 2, 1)\n",
    "    plt.plot(train_losses, label='Training Loss', color='blue')\n",
    "    plt.plot(val_losses, label='Validation Loss', color='orange')\n",
    "    plt.xlabel('Epoch')\n",
    "    plt.ylabel('Loss')\n",
    "    plt.title('Training and Validation Loss')\n",
    "    plt.legend()\n",
    "\n",
    "    # # Annotate each point with its exact value\n",
    "    # for i, value in enumerate(train_losses):\n",
    "    #     plt.text(i, value, f'{value:.2f}', ha='center', va='bottom', fontsize=5)\n",
    "\n",
    "    # for i, value in enumerate(val_losses):\n",
    "    #     plt.text(i, value, f'{value:.2f}', ha='center', va='bottom',fontsize=5)\n",
    "\n",
    "    # Plotting the training and validation accuracies\n",
    "    plt.subplot(1, 2, 2)\n",
    "    plt.plot(train_accuracies, label='Training Accuracy', color='blue')\n",
    "    plt.plot(val_accuracies, label='Validation Accuracy', color='orange')\n",
    "    plt.xlabel('Epoch')\n",
    "    plt.ylabel('Accuracy')\n",
    "    plt.title('Training and Validation Accuracy')\n",
    "    plt.legend()\n",
    "\n",
    "    # # Annotate each point with its exact value\n",
    "    # for i, value in enumerate(train_accuracies):\n",
    "    #     plt.text(i, value, f'{value:.2f}', ha='center', va='bottom')\n",
    "\n",
    "    # for i, value in enumerate(val_accuracies):\n",
    "    #     plt.text(i, value, f'{value:.2f}', ha='center', va='bottom')\n",
    "\n",
    "    save_fig_name = timestr + \".png\"\n",
    "    plt.savefig(\"save/\" + model_chosen + \"_\" + save_fig_name)\n",
    "    plt.savefig(\"models/\" + model_chosen + \"_\" + timestr + \"/\" + save_fig_name)\n",
    "    plt.show()\n",
    "\n",
    "# Test the model\n",
    "# Load the saved model state\n",
    "model.load_state_dict(torch.load('models/last.pth'))\n",
    "\n",
    "# Use GPU if available\n",
    "device = torch.device(\"cuda\" if torch.cuda.is_available() else \"cpu\")\n",
    "print(\"Testing on: \", device)\n",
    "model = model.to(device)\n",
    "\n",
    "model.eval()\n",
    "correct = 0\n",
    "total = 0\n",
    "all_predicted = []\n",
    "all_labels = []\n",
    "\n",
    "with torch.no_grad():\n",
    "    for inputs, labels in tqdm(test_loader, desc=\"Testing\"):\n",
    "        inputs, labels = inputs.to(device), labels.to(device)\n",
    "        \n",
    "        inputs = inputs.unsqueeze(1)  # Adds a channel dimension\n",
    "\n",
    "        optimizer.zero_grad()\n",
    "        outputs = model(inputs)\n",
    "        \n",
    "        _, predicted = torch.max(outputs.data, 1)\n",
    "        # Update this line to use one-hot encoded labels\n",
    "        total += labels.size(0)\n",
    "        correct += (predicted == torch.argmax(labels, dim=1)).sum().item()\n",
    "\n",
    "        all_predicted.extend(predicted.cpu().numpy())\n",
    "        all_labels.extend(labels.cpu().numpy())\n",
    "\n",
    "# Calculate accuracy\n",
    "accuracy = correct / total\n",
    "print(f'Test Accuracy: {accuracy:.4f}')\n",
    "model_info[\"accuracy\"] = f'{accuracy:.4f}'\n",
    "\n",
    "# Calculate confusion matrix\n",
    "conf_matrix = confusion_matrix(all_labels, all_predicted)\n",
    "\n",
    "# Calculate F1 score\n",
    "f1 = f1_score(all_labels, all_predicted, average='weighted')\n",
    "\n",
    "# Add confusion matrix and F1 score to the model_info dictionary\n",
    "model_info['confusion_matrix'] = conf_matrix.tolist()  # Convert to list for JSON serialization\n",
    "model_info['f1_score'] = f1\n",
    "\n",
    "if trained:\n",
    "    # Save the model information in a CSV file\n",
    "    csv_file_path = \"models/\" + model_chosen + \"_\" + timestr + \"/\" + \"results.csv\"\n",
    "else:\n",
    "    csv_file_path = \"last.csv\"\n",
    "\n",
    "with open(csv_file_path, 'w', newline='') as csv_file:\n",
    "    csv_writer = csv.writer(csv_file)\n",
    "    for key, value in model_info.items():\n",
    "        # if isinstance(value, list):\n",
    "        #     csv_writer.writerow([key] + value)\n",
    "        # else:\n",
    "        csv_writer.writerow([key, value])"
   ]
  }
 ],
 "metadata": {
  "kernelspec": {
   "display_name": ".venv",
   "language": "python",
   "name": "python3"
  },
  "language_info": {
   "codemirror_mode": {
    "name": "ipython",
    "version": 3
   },
   "file_extension": ".py",
   "mimetype": "text/x-python",
   "name": "python",
   "nbconvert_exporter": "python",
   "pygments_lexer": "ipython3",
   "version": "3.10.6"
  }
 },
 "nbformat": 4,
 "nbformat_minor": 2
}
