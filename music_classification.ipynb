{
 "cells": [
  {
   "cell_type": "code",
   "execution_count": 75,
   "metadata": {
    "collapsed": true
   },
   "outputs": [],
   "source": [
    "import os\n",
    "import torch\n",
    "import numpy as np\n",
    "import torch.nn as nn\n",
    "from torch.utils.data import DataLoader, Dataset\n",
    "import torchvision\n",
    "from sklearn.metrics import confusion_matrix, f1_score\n",
    "from torchvision import transforms\n",
    "import time\n",
    "from torchvision import models\n",
    "from PIL import Image\n",
    "import torch.optim as optim\n",
    "from tqdm import tqdm\n",
    "from torchvision.datasets import ImageFolder\n",
    "import matplotlib.pyplot as plt\n",
    "import torchvision.transforms.functional as F\n",
    "import csv\n",
    "import argparse"
   ]
  },
  {
   "cell_type": "code",
   "execution_count": 76,
   "outputs": [],
   "source": [
    "class MusicGenreDataset(Dataset):\n",
    "    def __init__(self, root, transform=None, target_transform=None, num_splits=10):\n",
    "        self.root = root\n",
    "        self.transform = transform\n",
    "        self.target_transform = target_transform\n",
    "        self.classes, self.class_to_idx = self._find_classes(self.root)\n",
    "        self.samples = self._make_dataset(self.root, self.class_to_idx)\n",
    "        self.num_splits = num_splits\n",
    "\n",
    "    def _find_classes(self, dir):\n",
    "        classes = [d.name for d in os.scandir(dir) if d.is_dir()]\n",
    "        classes.sort()\n",
    "        class_to_idx = {cls_name: i for i, cls_name in enumerate(classes)}\n",
    "        return classes, class_to_idx\n",
    "\n",
    "    def _make_dataset(self, dir, class_to_idx):\n",
    "        dataset = []\n",
    "        for target in sorted(class_to_idx.keys()):\n",
    "            d = os.path.join(dir, target)\n",
    "            if not os.path.isdir(d):\n",
    "                continue\n",
    "\n",
    "            for root, _, fnames in sorted(os.walk(d)):\n",
    "                for fname in sorted(fnames):\n",
    "                    path = os.path.join(root, fname)\n",
    "                    item = (path, class_to_idx[target])\n",
    "                    dataset.append(item)\n",
    "\n",
    "        return dataset\n",
    "\n",
    "    def __len__(self):\n",
    "        return len(self.samples)\n",
    "\n",
    "    def __getitem__(self, index):\n",
    "        path, target = self.samples[index]  # Use integer division to get the original index\n",
    "\n",
    "        img = np.load(path)\n",
    "\n",
    "        return img, target\n"
   ],
   "metadata": {
    "collapsed": false
   }
  },
  {
   "cell_type": "markdown",
   "source": [
    "# TODO: Check the input data before feeding to the NN. Make Mel spec."
   ],
   "metadata": {
    "collapsed": false
   }
  },
  {
   "cell_type": "code",
   "execution_count": 77,
   "outputs": [],
   "source": [
    "timestr = time.strftime(\"%Y%m%d-%H%M%S\")\n",
    "\n",
    "device = torch.device(\"cuda\" if torch.cuda.is_available() else \"cpu\")\n",
    "\n",
    "root = 'data/gtzan/data_MEL_640'"
   ],
   "metadata": {
    "collapsed": false
   }
  },
  {
   "cell_type": "code",
   "execution_count": 78,
   "outputs": [],
   "source": [
    "model_info = {\n",
    "    'num_classes': 10,\n",
    "    'batch_size': 32,\n",
    "    'learning_rate': 0.0001,\n",
    "    'num_epochs': 2,\n",
    "    'rnn_hidden_size': 96,\n",
    "    'num_rnn_layers': 1\n",
    "    # 'base_model': model_chosen,\n",
    "    # 'num_splits': num_splits,\n",
    "    # 'device': str(device),\n",
    "}"
   ],
   "metadata": {
    "collapsed": false
   }
  },
  {
   "cell_type": "code",
   "execution_count": 79,
   "outputs": [],
   "source": [
    "# Transformations for spectrogram images\n",
    "transform = transforms.Compose([\n",
    "    transforms.ToTensor()\n",
    "])\n",
    "\n",
    "# Load your custom dataset with splits\n",
    "dataset = MusicGenreDataset(root, transform=transform)"
   ],
   "metadata": {
    "collapsed": false
   }
  },
  {
   "cell_type": "code",
   "execution_count": 80,
   "outputs": [],
   "source": [
    "# Split between training, validation, and testing sets\n",
    "train_size = int(0.8 * len(dataset))\n",
    "val_size = int(0.1 * len(dataset))\n",
    "test_size = len(dataset) - train_size - val_size"
   ],
   "metadata": {
    "collapsed": false
   }
  },
  {
   "cell_type": "code",
   "execution_count": 81,
   "outputs": [],
   "source": [
    "train_dataset, val_dataset, test_dataset = torch.utils.data.random_split(dataset, [train_size, val_size, test_size])\n",
    "\n",
    "train_loader = DataLoader(train_dataset, batch_size=model_info['batch_size'], shuffle=True)\n",
    "val_loader = DataLoader(val_dataset, batch_size=model_info['batch_size'], shuffle=False)\n",
    "test_loader = DataLoader(test_dataset, batch_size=model_info['batch_size'], shuffle=False)"
   ],
   "metadata": {
    "collapsed": false
   }
  },
  {
   "cell_type": "code",
   "execution_count": 81,
   "outputs": [],
   "source": [],
   "metadata": {
    "collapsed": false
   }
  },
  {
   "cell_type": "code",
   "execution_count": 82,
   "outputs": [],
   "source": [
    "# # Configurate the model\n",
    "# model = nn.Sequential(\n",
    "#     nn.Conv2d(in_channels=1, out_channels=128, kernel_size=5, padding=2), # Paddingto keep the 'same' resolution\n",
    "#     nn.MaxPool2d(kernel_size=2, stride=2),\n",
    "#     nn.Conv2d(in_channels=128, out_channels=128, kernel_size=5, padding=2),\n",
    "#     nn.MaxPool2d(kernel_size=2, stride=2),\n",
    "#     nn.Flatten(),\n",
    "#     nn.Linear(157 * 29 * 128, 10),\n",
    "#     nn.LogSoftmax(dim=-1)\n",
    "# )\n",
    "# model = model.to(device)"
   ],
   "metadata": {
    "collapsed": false
   }
  },
  {
   "cell_type": "code",
   "execution_count": 83,
   "outputs": [
    {
     "data": {
      "text/plain": "CNNtoRNN(\n  (conv_layers): Sequential(\n    (0): Conv2d(1, 128, kernel_size=(5, 5), stride=(1, 1), padding=(2, 2))\n    (1): MaxPool2d(kernel_size=2, stride=2, padding=0, dilation=1, ceil_mode=False)\n    (2): ReLU()\n    (3): Conv2d(128, 128, kernel_size=(5, 5), stride=(1, 1), padding=(2, 2))\n    (4): MaxPool2d(kernel_size=2, stride=2, padding=0, dilation=1, ceil_mode=False)\n    (5): ReLU()\n  )\n  (rnn): GRU(655360, 1, num_layers=96, batch_first=True)\n  (fc): Linear(in_features=1, out_features=10, bias=True)\n)"
     },
     "execution_count": 83,
     "metadata": {},
     "output_type": "execute_result"
    }
   ],
   "source": [
    "class CNNtoRNN(nn.Module):\n",
    "    def __init__(self, num_classes, rnn_hidden_size, num_rnn_layers) -> None:\n",
    "        super().__init__()\n",
    "        self.conv_layers = nn.Sequential(\n",
    "            nn.Conv2d(1, 128, 5, padding=2),\n",
    "            nn.MaxPool2d(2, 2),\n",
    "            nn.ReLU(),\n",
    "            nn.Conv2d(128, 128, 5, padding=2),\n",
    "            nn.MaxPool2d(2, 2),\n",
    "            nn.ReLU(),\n",
    "        )\n",
    "        # Size of the flattened CNN features, needs to be calculated based on the CNN output\n",
    "        self.cnn_output_size = 32 * 160 * 128\n",
    "\n",
    "        # RNN layers\n",
    "        self.rnn = nn.GRU(input_size=self.cnn_output_size,\n",
    "                          hidden_size=rnn_hidden_size,\n",
    "                          num_layers=num_rnn_layers,\n",
    "                          batch_first=True)\n",
    "\n",
    "        # Linear and LogSoftmax layers\n",
    "        self.fc = nn.Linear(rnn_hidden_size, num_classes)\n",
    "        # self.log_softmax = nn.LogSoftmax(dim=-1) # LogSoftmax does not work with CrossEntropyLoss !!!!\n",
    "\n",
    "    def forward(self, x: torch.Tensor) -> torch.Tensor:\n",
    "        x = self.conv_layers(x)\n",
    "\n",
    "        # Flatten the CNN output for the RNN layer\n",
    "        x = x.view(x.size(0), -1)\n",
    "\n",
    "        # The RNN layer expects inputs of shape (batch, seq_len, features)\n",
    "        # Since we don't have a sequence, we can treat the entire CNN output as one sequence\n",
    "        # by adding an additional dimension with seq_len=1\n",
    "        x = x.unsqueeze(1)\n",
    "\n",
    "        # Apply the RNN layer\n",
    "        x, _ = self.rnn(x)\n",
    "\n",
    "        # Take the output for the last time-step\n",
    "        x = x[:, -1, :]\n",
    "\n",
    "        # Apply the final fully connected layer and LogSoftmax\n",
    "        x = self.fc(x)\n",
    "\n",
    "        return x\n",
    "\n",
    "\n",
    "model = CNNtoRNN(model_info['num_classes'], model_info['num_rnn_layers'], model_info['rnn_hidden_size'])\n",
    "model.to(device)"
   ],
   "metadata": {
    "collapsed": false
   }
  },
  {
   "cell_type": "code",
   "execution_count": 84,
   "outputs": [],
   "source": [
    "# Define loss function and optimizer\n",
    "criterion = nn.CrossEntropyLoss()\n",
    "optimizer = optim.Adam(model.parameters(), lr=model_info['learning_rate'])"
   ],
   "metadata": {
    "collapsed": false
   }
  },
  {
   "cell_type": "code",
   "execution_count": 85,
   "outputs": [],
   "source": [
    "# Training and validation loop\n",
    "train_losses = []\n",
    "val_losses = []\n",
    "train_accuracies = []\n",
    "val_accuracies = []"
   ],
   "metadata": {
    "collapsed": false
   }
  },
  {
   "cell_type": "code",
   "execution_count": 86,
   "outputs": [
    {
     "name": "stderr",
     "output_type": "stream",
     "text": [
      "Epoch 1/2 - Training: 100%|██████████| 25/25 [03:33<00:00,  8.56s/it]\n",
      "Validation: 100%|██████████| 4/4 [00:05<00:00,  1.37s/it]\n"
     ]
    },
    {
     "name": "stdout",
     "output_type": "stream",
     "text": [
      "Epoch 1/2, Train Loss: 2.4637, Train Accuracy: 0.1013, Val Loss: 2.3639, Val Accuracy: 0.0800\n"
     ]
    },
    {
     "name": "stderr",
     "output_type": "stream",
     "text": [
      "Epoch 2/2 - Training: 100%|██████████| 25/25 [03:29<00:00,  8.37s/it]\n",
      "Validation: 100%|██████████| 4/4 [00:05<00:00,  1.38s/it]"
     ]
    },
    {
     "name": "stdout",
     "output_type": "stream",
     "text": [
      "Epoch 2/2, Train Loss: 2.4627, Train Accuracy: 0.1013, Val Loss: 2.3631, Val Accuracy: 0.0800\n"
     ]
    },
    {
     "name": "stderr",
     "output_type": "stream",
     "text": [
      "\n"
     ]
    }
   ],
   "source": [
    "for epoch in range(model_info['num_epochs']):\n",
    "    # Training\n",
    "    model.train()\n",
    "    running_loss = 0.0\n",
    "    correct_train = 0\n",
    "    total_train = 0\n",
    "\n",
    "    for inputs, labels in tqdm(train_loader, desc=f\"Epoch {epoch + 1}/{model_info['num_epochs']} - Training\"):\n",
    "        # print(f\"Input shape:{inputs.size()}\")\n",
    "        # print(f\"Labels shape:{labels}\")\n",
    "        inputs, labels = inputs.to(device), labels.to(device)\n",
    "        inputs = inputs.unsqueeze(1)  # Adds a channel dimension\n",
    "\n",
    "        # print(inputs[0])\n",
    "\n",
    "        # HERE = inputs[0]\n",
    "\n",
    "        optimizer.zero_grad()\n",
    "        outputs = model(inputs)\n",
    "        # print(f\"Output shape:{outputs.size()}\")\n",
    "        loss = criterion(outputs, labels)\n",
    "        loss.backward()\n",
    "        optimizer.step()\n",
    "\n",
    "        running_loss += loss.item()\n",
    "\n",
    "        _, predicted = torch.max(outputs.data, 1)\n",
    "        total_train += labels.size(0)\n",
    "        correct_train += (predicted == labels).sum().item()\n",
    "\n",
    "    average_train_loss = running_loss / len(train_loader)\n",
    "    train_accuracy = correct_train / total_train\n",
    "    train_losses.append(average_train_loss)\n",
    "    train_accuracies.append(train_accuracy)\n",
    "    model_info[f\"train loss epoch \" + str(epoch)] = f'{average_train_loss:.4f}'\n",
    "    model_info[f\"train accuracy epoch \" + str(epoch)] = f'{train_accuracy:.4f}'\n",
    "\n",
    "    # Validation\n",
    "    model.eval()\n",
    "    running_val_loss = 0.0\n",
    "    correct_val = 0\n",
    "    total_val = 0\n",
    "\n",
    "    with torch.no_grad():\n",
    "        for inputs_val, labels_val in tqdm(val_loader, desc=\"Validation\"):\n",
    "            inputs_val, labels_val = inputs_val.to(device), labels_val.to(device)\n",
    "            inputs_val = inputs_val.unsqueeze(1)  # Adds a channel dimension\n",
    "\n",
    "            outputs_val = model(inputs_val)\n",
    "            val_loss = criterion(outputs_val, labels_val)\n",
    "            running_val_loss += val_loss.item()\n",
    "\n",
    "            _, predicted_val = torch.max(outputs_val.data, 1)\n",
    "            total_val += labels_val.size(0)\n",
    "            correct_val += (predicted_val == labels_val).sum().item()\n",
    "\n",
    "    average_val_loss = running_val_loss / len(val_loader)\n",
    "    val_accuracy = correct_val / total_val\n",
    "    val_losses.append(average_val_loss)\n",
    "    val_accuracies.append(val_accuracy)\n",
    "    model_info[f\"val loss epoch \" + str(epoch)] = f'{average_val_loss:.4f}'\n",
    "    model_info[f\"val accuracy epoch \" + str(epoch)] = f'{val_accuracy:.4f}'\n",
    "\n",
    "    # save the model\n",
    "    newpath = \"models/\" + 'model_chosen' + \"_\" + timestr\n",
    "    if not os.path.exists(newpath):\n",
    "        os.makedirs(newpath)\n",
    "\n",
    "    model_name = str(timestr) + \"_\" + str(epoch) + \".pth\"\n",
    "    # Save the trained model\n",
    "    torch.save(model.state_dict(), 'models/' + 'model_chosen' + \"_\" + timestr + '/' + model_name)\n",
    "\n",
    "    # Print training and validation metrics for the epoch\n",
    "    print(f\"Epoch {epoch + 1}/{model_info['num_epochs']}, \"\n",
    "          f\"Train Loss: {average_train_loss:.4f}, Train Accuracy: {train_accuracy:.4f}, \"\n",
    "          f\"Val Loss: {average_val_loss:.4f}, Val Accuracy: {val_accuracy:.4f}\")"
   ],
   "metadata": {
    "collapsed": false
   }
  },
  {
   "cell_type": "code",
   "execution_count": 87,
   "outputs": [
    {
     "data": {
      "text/plain": "<matplotlib.legend.Legend at 0x2e68d4910>"
     },
     "execution_count": 87,
     "metadata": {},
     "output_type": "execute_result"
    },
    {
     "data": {
      "text/plain": "<Figure size 1000x400 with 2 Axes>",
      "image/png": "[encoded data removed]"
     },
     "metadata": {},
     "output_type": "display_data"
    }
   ],
   "source": [
    "model_name = timestr + \".pth\"\n",
    "# Save the trained model\n",
    "torch.save(model.state_dict(), 'models/last.pth')\n",
    "\n",
    "# Plotting the training and validation losses\n",
    "plt.figure(figsize=(10, 4))\n",
    "plt.subplot(1, 2, 1)\n",
    "plt.plot(train_losses, label='Training Loss', color='blue')\n",
    "plt.plot(val_losses, label='Validation Loss', color='orange')\n",
    "plt.xlabel('Epoch')\n",
    "plt.ylabel('Loss')\n",
    "plt.title('Training and Validation Loss')\n",
    "plt.legend()\n",
    "\n",
    "# Plotting the training and validation accuracies\n",
    "plt.subplot(1, 2, 2)\n",
    "plt.plot(train_accuracies, label='Training Accuracy', color='blue')\n",
    "plt.plot(val_accuracies, label='Validation Accuracy', color='orange')\n",
    "plt.xlabel('Epoch')\n",
    "plt.ylabel('Accuracy')\n",
    "plt.title('Training and Validation Accuracy')\n",
    "plt.legend()"
   ],
   "metadata": {
    "collapsed": false
   }
  }
 ],
 "metadata": {
  "kernelspec": {
   "display_name": "Python 3",
   "language": "python",
   "name": "python3"
  },
  "language_info": {
   "codemirror_mode": {
    "name": "ipython",
    "version": 2
   },
   "file_extension": ".py",
   "mimetype": "text/x-python",
   "name": "python",
   "nbconvert_exporter": "python",
   "pygments_lexer": "ipython2",
   "version": "2.7.6"
  }
 },
 "nbformat": 4,
 "nbformat_minor": 0
}
